{
 "metadata": {
  "language_info": {
   "codemirror_mode": {
    "name": "ipython",
    "version": 3
   },
   "file_extension": ".py",
   "mimetype": "text/x-python",
   "name": "python",
   "nbconvert_exporter": "python",
   "pygments_lexer": "ipython3",
   "version": "3.8.5-final"
  },
  "orig_nbformat": 2,
  "kernelspec": {
   "name": "python3",
   "display_name": "Python 3",
   "language": "python"
  }
 },
 "nbformat": 4,
 "nbformat_minor": 2,
 "cells": [
  {
   "cell_type": "code",
   "execution_count": 171,
   "metadata": {},
   "outputs": [],
   "source": [
    "import pandas as pd\n",
    "import numpy as np\n",
    "import statistics as st\n",
    "import matplotlib.pyplot as plt\n",
    "import seaborn as sns\n",
    "from sklearn.model_selection import train_test_split\n",
    "from collections import Counter\n",
    "from sklearn.preprocessing import StandardScaler\n",
    "from sklearn.preprocessing import LabelEncoder\n",
    "from sklearn.linear_model import LogisticRegression\n",
    "from sklearn.model_selection import cross_val_predict\n",
    "from sklearn import metrics\n",
    "from sklearn.metrics import accuracy_score\n",
    "from sklearn.metrics import confusion_matrix\n",
    "from sklearn.metrics import classification_report\n",
    "from sklearn.model_selection import cross_val_score\n",
    "from sklearn import svm\n",
    "from sklearn.neighbors import KNeighborsClassifier\n",
    "from sklearn.model_selection import GridSearchCV"
   ]
  },
  {
   "cell_type": "code",
   "execution_count": 172,
   "metadata": {},
   "outputs": [],
   "source": [
    "red_wine = pd.read_csv(\"winequality-red.csv\", sep=\";\")\n",
    "white_wine = pd.read_csv(\"winequality-white.csv\", sep=\";\")"
   ]
  },
  {
   "cell_type": "code",
   "execution_count": 173,
   "metadata": {},
   "outputs": [],
   "source": [
    "red_wine[\"wine_type\"] = \"red\"\n",
    "white_wine[\"wine_type\"] = \"white\""
   ]
  },
  {
   "cell_type": "code",
   "execution_count": 174,
   "metadata": {},
   "outputs": [],
   "source": [
    "red_wine['quality_label'] = red_wine['quality'].apply(lambda value: 'low' if value <= 5 else 'medium' if value <= 7 else 'high')\n",
    "white_wine['quality_label'] = white_wine['quality'].apply(lambda value: 'low' if value <= 5 else 'medium' if value <= 7 else 'high')"
   ]
  },
  {
   "cell_type": "code",
   "execution_count": 175,
   "metadata": {},
   "outputs": [],
   "source": [
    "wines = pd.concat([white_wine,red_wine])"
   ]
  },
  {
   "cell_type": "code",
   "execution_count": 176,
   "metadata": {},
   "outputs": [],
   "source": [
    "wines = wines.sample(frac=1, random_state=42).reset_index(drop=True)"
   ]
  },
  {
   "cell_type": "code",
   "execution_count": 177,
   "metadata": {},
   "outputs": [
    {
     "output_type": "execute_result",
     "data": {
      "text/plain": [
       "(6497, 14)"
      ]
     },
     "metadata": {},
     "execution_count": 177
    }
   ],
   "source": [
    "wines.shape"
   ]
  },
  {
   "cell_type": "code",
   "execution_count": 178,
   "metadata": {},
   "outputs": [
    {
     "output_type": "execute_result",
     "data": {
      "text/plain": [
       "      fixed acidity  volatile acidity  citric acid  residual sugar  chlorides  \\\n",
       "0               7.0              0.25         0.45             2.3      0.045   \n",
       "1               7.6              0.14         0.74             1.6      0.040   \n",
       "2               6.2              0.15         0.27            11.0      0.035   \n",
       "3               6.7              0.16         0.32            12.5      0.035   \n",
       "4               6.8              0.27         0.22            17.8      0.034   \n",
       "...             ...               ...          ...             ...        ...   \n",
       "6492            6.3              0.24         0.29            13.7      0.035   \n",
       "6493            6.9              0.36         0.25             2.4      0.098   \n",
       "6494           13.4              0.27         0.62             2.6      0.082   \n",
       "6495            8.9              0.40         0.51             2.6      0.052   \n",
       "6496            8.1              0.27         0.35             1.7      0.030   \n",
       "\n",
       "      free sulfur dioxide  total sulfur dioxide  density    pH  sulphates  \\\n",
       "0                    40.0                 118.0  0.99064  3.16       0.48   \n",
       "1                    27.0                 103.0  0.99160  3.07       0.40   \n",
       "2                    46.0                 116.0  0.99602  3.12       0.38   \n",
       "3                    18.0                 156.0  0.99666  2.88       0.36   \n",
       "4                    16.0                 116.0  0.99890  3.07       0.53   \n",
       "...                   ...                   ...      ...   ...        ...   \n",
       "6492                 53.0                 134.0  0.99567  3.17       0.38   \n",
       "6493                  5.0                  16.0  0.99640  3.41       0.60   \n",
       "6494                  6.0                  21.0  1.00020  3.16       0.67   \n",
       "6495                 13.0                  27.0  0.99500  3.32       0.90   \n",
       "6496                 38.0                 103.0  0.99255  3.22       0.63   \n",
       "\n",
       "      alcohol  quality wine_type quality_label  \n",
       "0        11.9        7     white        medium  \n",
       "1        10.8        7     white        medium  \n",
       "2         9.1        6     white        medium  \n",
       "3         9.0        6     white        medium  \n",
       "4         9.2        5     white           low  \n",
       "...       ...      ...       ...           ...  \n",
       "6492     10.6        6     white        medium  \n",
       "6493     10.1        6       red        medium  \n",
       "6494      9.7        6       red        medium  \n",
       "6495     13.4        7       red        medium  \n",
       "6496     10.4        8     white          high  \n",
       "\n",
       "[6497 rows x 14 columns]"
      ],
      "text/html": "<div>\n<style scoped>\n    .dataframe tbody tr th:only-of-type {\n        vertical-align: middle;\n    }\n\n    .dataframe tbody tr th {\n        vertical-align: top;\n    }\n\n    .dataframe thead th {\n        text-align: right;\n    }\n</style>\n<table border=\"1\" class=\"dataframe\">\n  <thead>\n    <tr style=\"text-align: right;\">\n      <th></th>\n      <th>fixed acidity</th>\n      <th>volatile acidity</th>\n      <th>citric acid</th>\n      <th>residual sugar</th>\n      <th>chlorides</th>\n      <th>free sulfur dioxide</th>\n      <th>total sulfur dioxide</th>\n      <th>density</th>\n      <th>pH</th>\n      <th>sulphates</th>\n      <th>alcohol</th>\n      <th>quality</th>\n      <th>wine_type</th>\n      <th>quality_label</th>\n    </tr>\n  </thead>\n  <tbody>\n    <tr>\n      <th>0</th>\n      <td>7.0</td>\n      <td>0.25</td>\n      <td>0.45</td>\n      <td>2.3</td>\n      <td>0.045</td>\n      <td>40.0</td>\n      <td>118.0</td>\n      <td>0.99064</td>\n      <td>3.16</td>\n      <td>0.48</td>\n      <td>11.9</td>\n      <td>7</td>\n      <td>white</td>\n      <td>medium</td>\n    </tr>\n    <tr>\n      <th>1</th>\n      <td>7.6</td>\n      <td>0.14</td>\n      <td>0.74</td>\n      <td>1.6</td>\n      <td>0.040</td>\n      <td>27.0</td>\n      <td>103.0</td>\n      <td>0.99160</td>\n      <td>3.07</td>\n      <td>0.40</td>\n      <td>10.8</td>\n      <td>7</td>\n      <td>white</td>\n      <td>medium</td>\n    </tr>\n    <tr>\n      <th>2</th>\n      <td>6.2</td>\n      <td>0.15</td>\n      <td>0.27</td>\n      <td>11.0</td>\n      <td>0.035</td>\n      <td>46.0</td>\n      <td>116.0</td>\n      <td>0.99602</td>\n      <td>3.12</td>\n      <td>0.38</td>\n      <td>9.1</td>\n      <td>6</td>\n      <td>white</td>\n      <td>medium</td>\n    </tr>\n    <tr>\n      <th>3</th>\n      <td>6.7</td>\n      <td>0.16</td>\n      <td>0.32</td>\n      <td>12.5</td>\n      <td>0.035</td>\n      <td>18.0</td>\n      <td>156.0</td>\n      <td>0.99666</td>\n      <td>2.88</td>\n      <td>0.36</td>\n      <td>9.0</td>\n      <td>6</td>\n      <td>white</td>\n      <td>medium</td>\n    </tr>\n    <tr>\n      <th>4</th>\n      <td>6.8</td>\n      <td>0.27</td>\n      <td>0.22</td>\n      <td>17.8</td>\n      <td>0.034</td>\n      <td>16.0</td>\n      <td>116.0</td>\n      <td>0.99890</td>\n      <td>3.07</td>\n      <td>0.53</td>\n      <td>9.2</td>\n      <td>5</td>\n      <td>white</td>\n      <td>low</td>\n    </tr>\n    <tr>\n      <th>...</th>\n      <td>...</td>\n      <td>...</td>\n      <td>...</td>\n      <td>...</td>\n      <td>...</td>\n      <td>...</td>\n      <td>...</td>\n      <td>...</td>\n      <td>...</td>\n      <td>...</td>\n      <td>...</td>\n      <td>...</td>\n      <td>...</td>\n      <td>...</td>\n    </tr>\n    <tr>\n      <th>6492</th>\n      <td>6.3</td>\n      <td>0.24</td>\n      <td>0.29</td>\n      <td>13.7</td>\n      <td>0.035</td>\n      <td>53.0</td>\n      <td>134.0</td>\n      <td>0.99567</td>\n      <td>3.17</td>\n      <td>0.38</td>\n      <td>10.6</td>\n      <td>6</td>\n      <td>white</td>\n      <td>medium</td>\n    </tr>\n    <tr>\n      <th>6493</th>\n      <td>6.9</td>\n      <td>0.36</td>\n      <td>0.25</td>\n      <td>2.4</td>\n      <td>0.098</td>\n      <td>5.0</td>\n      <td>16.0</td>\n      <td>0.99640</td>\n      <td>3.41</td>\n      <td>0.60</td>\n      <td>10.1</td>\n      <td>6</td>\n      <td>red</td>\n      <td>medium</td>\n    </tr>\n    <tr>\n      <th>6494</th>\n      <td>13.4</td>\n      <td>0.27</td>\n      <td>0.62</td>\n      <td>2.6</td>\n      <td>0.082</td>\n      <td>6.0</td>\n      <td>21.0</td>\n      <td>1.00020</td>\n      <td>3.16</td>\n      <td>0.67</td>\n      <td>9.7</td>\n      <td>6</td>\n      <td>red</td>\n      <td>medium</td>\n    </tr>\n    <tr>\n      <th>6495</th>\n      <td>8.9</td>\n      <td>0.40</td>\n      <td>0.51</td>\n      <td>2.6</td>\n      <td>0.052</td>\n      <td>13.0</td>\n      <td>27.0</td>\n      <td>0.99500</td>\n      <td>3.32</td>\n      <td>0.90</td>\n      <td>13.4</td>\n      <td>7</td>\n      <td>red</td>\n      <td>medium</td>\n    </tr>\n    <tr>\n      <th>6496</th>\n      <td>8.1</td>\n      <td>0.27</td>\n      <td>0.35</td>\n      <td>1.7</td>\n      <td>0.030</td>\n      <td>38.0</td>\n      <td>103.0</td>\n      <td>0.99255</td>\n      <td>3.22</td>\n      <td>0.63</td>\n      <td>10.4</td>\n      <td>8</td>\n      <td>white</td>\n      <td>high</td>\n    </tr>\n  </tbody>\n</table>\n<p>6497 rows × 14 columns</p>\n</div>"
     },
     "metadata": {},
     "execution_count": 178
    }
   ],
   "source": [
    "wines"
   ]
  },
  {
   "cell_type": "code",
   "execution_count": 179,
   "metadata": {},
   "outputs": [
    {
     "output_type": "execute_result",
     "data": {
      "text/plain": [
       "0       medium\n",
       "1       medium\n",
       "2       medium\n",
       "3       medium\n",
       "4          low\n",
       "         ...  \n",
       "6492    medium\n",
       "6493    medium\n",
       "6494    medium\n",
       "6495    medium\n",
       "6496      high\n",
       "Name: quality_label, Length: 6497, dtype: object"
      ]
     },
     "metadata": {},
     "execution_count": 179
    }
   ],
   "source": [
    "# split up our dataset into inputs (X) and our target (y)\n",
    "X = wines.drop(columns=[\"quality_label\", \"wine_type\"])\n",
    "y = wines[\"quality_label\"]\n",
    "y"
   ]
  },
  {
   "cell_type": "code",
   "execution_count": 180,
   "metadata": {},
   "outputs": [],
   "source": [
    "# Split the dataset into train and test data\n",
    "# The training data is the data that the model will learn from. The testing data is the data we will use to see how well the model performs on unseen data.\n",
    "# The first two parameters are the input and target data we split up earlier\n",
    "# This means that 20% of all the data will be used for testing, which leaves 80% of the data as training data for the model to learn from\n",
    "# ‘random_state’ to 1 ensures that we get the same split each time so we can reproduce our results\n",
    "# Setting ‘stratify’ to y makes our training split represent the proportion of each value in the y variable. For example, if 25% of patients have diabetes and 75% don’t have diabetes, setting ‘stratify’ to y will ensure that the random split has 25% of patients with diabetes and 75% of patients without diabetes.\n",
    "\n",
    "X_train, X_test, y_train, y_test= train_test_split(X,y,test_size=0.1,random_state=1,stratify=y)"
   ]
  },
  {
   "cell_type": "code",
   "execution_count": 181,
   "metadata": {},
   "outputs": [
    {
     "output_type": "execute_result",
     "data": {
      "text/plain": [
       "(5847, 12)"
      ]
     },
     "metadata": {},
     "execution_count": 181
    }
   ],
   "source": [
    "X_train.shape"
   ]
  },
  {
   "cell_type": "code",
   "execution_count": 182,
   "metadata": {},
   "outputs": [
    {
     "output_type": "execute_result",
     "data": {
      "text/plain": [
       "(650,)"
      ]
     },
     "metadata": {},
     "execution_count": 182
    }
   ],
   "source": [
    "y_test.shape"
   ]
  },
  {
   "cell_type": "code",
   "execution_count": 183,
   "metadata": {},
   "outputs": [
    {
     "output_type": "execute_result",
     "data": {
      "text/plain": [
       "KNeighborsClassifier(n_neighbors=3)"
      ]
     },
     "metadata": {},
     "execution_count": 183
    }
   ],
   "source": [
    "# Next, we have to build the model\n",
    "# from sklearn.neighbors import KNeighborsClassifier\n",
    "# Create KNN classifier\n",
    "# n_neighbors = 3 -> this means that if at least 2 out of the 3 nearest points to an new data point are of \"low quality\" then the new data point will be labeled as \"low quality\"\n",
    "# Next, we need to train the model. In order to train our new model, we will use the ‘fit’ function and pass in our training data as parameters to fit our model to the training data.\n",
    "from sklearn.neighbors import KNeighborsClassifier\n",
    "knn = KNeighborsClassifier(n_neighbors = 3)\n",
    "knn.fit(X_train, y_train)"
   ]
  },
  {
   "cell_type": "code",
   "execution_count": 184,
   "metadata": {},
   "outputs": [
    {
     "output_type": "execute_result",
     "data": {
      "text/plain": [
       "array(['medium', 'medium', 'low', 'medium', 'low', 'low', 'medium', 'low',\n",
       "       'medium', 'low', 'low', 'medium', 'low', 'medium', 'high',\n",
       "       'medium', 'medium', 'medium', 'medium', 'medium'], dtype=object)"
      ]
     },
     "metadata": {},
     "execution_count": 184
    }
   ],
   "source": [
    "# Once the model is trained, we can use the ‘predict’ function on our model to make predictions on our test data.\n",
    "# To save space, we will only show print the first 20 predictions of our test set.\n",
    "knn.predict(X_test)[0:20]"
   ]
  },
  {
   "cell_type": "code",
   "execution_count": 185,
   "metadata": {},
   "outputs": [
    {
     "output_type": "execute_result",
     "data": {
      "text/plain": [
       "0.7138461538461538"
      ]
     },
     "metadata": {},
     "execution_count": 185
    }
   ],
   "source": [
    "# Now let’s see how our accurate our model is on the full test set. \n",
    "# To do this, we will use the ‘score’ function and pass in our test input and target data to see how well our model predictions match up to the actual results.\n",
    "knn.score(X_test, y_test)"
   ]
  },
  {
   "cell_type": "code",
   "execution_count": 186,
   "metadata": {},
   "outputs": [],
   "source": [
    "# Cross-validation is when the dataset is randomly split up into ‘k’ groups. One of the groups is used as the test set and the rest are used as the training set. The model is trained on the training set and scored on the test set. Then the process is repeated until each unique group as been used as the test set\n",
    "# The train-test-split method we used in earlier is called ‘holdout’. Cross-validation is better than using the holdout method because the holdout method score is dependent on how the data is split into train and test sets. Cross-validation gives the model an opportunity to test on multiple splits so we can get a better idea on how the model will perform on unseen data\n",
    "# create a new KNN model\n",
    "knn_cv = KNeighborsClassifier(n_neighbors=3)"
   ]
  },
  {
   "cell_type": "code",
   "execution_count": 187,
   "metadata": {},
   "outputs": [
    {
     "output_type": "stream",
     "name": "stdout",
     "text": [
      "cv_scores mean:0.7280275951915675\n"
     ]
    }
   ],
   "source": [
    "# train model with cv of 5 \n",
    "cv_scores = cross_val_score(knn_cv, X, y, cv=5)\n",
    "#print each cv score (accuracy) and average them\n",
    "cv_scores\n",
    "print(\"cv_scores mean:{}\".format(np.mean(cv_scores)))"
   ]
  },
  {
   "cell_type": "code",
   "execution_count": 188,
   "metadata": {},
   "outputs": [],
   "source": [
    "# Hypertuning model parameters using GridSearchCV: Hypertuning parameters is when you go through a process to find the optimal parameters for your model to improve accuracy.\n",
    "# GridSearchCV works by training our model multiple times on a range of parameters that we specify. That way, we can test our model with each parameter and figure out the optimal values to get the best accuracy results.\n",
    "# For our model, we will specify a range of values for ‘n_neighbors’ in order to see which value works best for our model. To do this, we will create a dictionary, setting ‘n_neighbors’ as the key and using numpy to create an array of values from 1 to 24.\n",
    "# Our new model using grid search will take in a new k-NN classifier, our param_grid and a cross-validation value of 5 in order to find the optimal value for ‘n_neighbors’."
   ]
  },
  {
   "cell_type": "code",
   "execution_count": 189,
   "metadata": {},
   "outputs": [],
   "source": [
    "from sklearn.model_selection import GridSearchCV\n",
    "# create new a knn model\n",
    "knn2 = KNeighborsClassifier()"
   ]
  },
  {
   "cell_type": "code",
   "execution_count": 190,
   "metadata": {},
   "outputs": [],
   "source": [
    "#create a dictionary of all values we want to test for n_neighbors\n",
    "param_grid = {\"n_neighbors\": np.arange(1, 25)}"
   ]
  },
  {
   "cell_type": "code",
   "execution_count": 191,
   "metadata": {},
   "outputs": [],
   "source": [
    "#use gridsearch to test all values for n_neighbors\n",
    "knn_gscv = GridSearchCV(knn2, param_grid, cv=5)"
   ]
  },
  {
   "cell_type": "code",
   "execution_count": 192,
   "metadata": {},
   "outputs": [
    {
     "output_type": "execute_result",
     "data": {
      "text/plain": [
       "GridSearchCV(cv=5, estimator=KNeighborsClassifier(),\n",
       "             param_grid={'n_neighbors': array([ 1,  2,  3,  4,  5,  6,  7,  8,  9, 10, 11, 12, 13, 14, 15, 16, 17,\n",
       "       18, 19, 20, 21, 22, 23, 24])})"
      ]
     },
     "metadata": {},
     "execution_count": 192
    }
   ],
   "source": [
    "knn_gscv.fit(X_train, y_train)"
   ]
  },
  {
   "cell_type": "code",
   "execution_count": 193,
   "metadata": {},
   "outputs": [
    {
     "output_type": "execute_result",
     "data": {
      "text/plain": [
       "{'n_neighbors': 1}"
      ]
     },
     "metadata": {},
     "execution_count": 193
    }
   ],
   "source": [
    "#check top performing n_neighbors value\n",
    "knn_gscv.best_params_"
   ]
  },
  {
   "cell_type": "code",
   "execution_count": 194,
   "metadata": {},
   "outputs": [
    {
     "output_type": "execute_result",
     "data": {
      "text/plain": [
       "0.7747558363127226"
      ]
     },
     "metadata": {},
     "execution_count": 194
    }
   ],
   "source": [
    "#check mean score for the top performing value of n_neighbors\n",
    "knn_gscv.best_score_"
   ]
  },
  {
   "cell_type": "code",
   "execution_count": 195,
   "metadata": {},
   "outputs": [
    {
     "output_type": "execute_result",
     "data": {
      "text/plain": [
       "Index(['fixed acidity', 'volatile acidity', 'citric acid', 'residual sugar',\n",
       "       'chlorides', 'free sulfur dioxide', 'total sulfur dioxide', 'density',\n",
       "       'pH', 'sulphates', 'alcohol', 'quality', 'wine_type', 'quality_label'],\n",
       "      dtype='object')"
      ]
     },
     "metadata": {},
     "execution_count": 195
    }
   ],
   "source": [
    "wines.columns"
   ]
  },
  {
   "cell_type": "code",
   "execution_count": 196,
   "metadata": {},
   "outputs": [],
   "source": [
    "# converting the response variables(3-7) as binary response variables that is either good or bad\n",
    "#names = ['bad', 'good']\n",
    "#bins = (2, 6.5, 8)\n",
    "#data['quality'] = pd.cut(data['quality'], bins = bins, labels = names)\n",
    "wines['quality'] = wines['quality'].map({3 : 'bad', 4 :'bad', 5: 'bad',\n",
    "                                      6: 'good', 7: 'good', 8: 'good'})"
   ]
  },
  {
   "cell_type": "code",
   "execution_count": 197,
   "metadata": {},
   "outputs": [
    {
     "output_type": "execute_result",
     "data": {
      "text/plain": [
       "good    4108\n",
       "bad     2384\n",
       "Name: quality, dtype: int64"
      ]
     },
     "metadata": {},
     "execution_count": 197
    }
   ],
   "source": [
    "# analyzing the different values present in the dependent variable(quality column)\n",
    "wines['quality'].value_counts()"
   ]
  },
  {
   "cell_type": "code",
   "execution_count": 198,
   "metadata": {},
   "outputs": [
    {
     "output_type": "display_data",
     "data": {
      "text/plain": "<Figure size 432x288 with 1 Axes>",
      "image/svg+xml": "<?xml version=\"1.0\" encoding=\"utf-8\" standalone=\"no\"?>\r\n<!DOCTYPE svg PUBLIC \"-//W3C//DTD SVG 1.1//EN\"\r\n  \"http://www.w3.org/Graphics/SVG/1.1/DTD/svg11.dtd\">\r\n<!-- Created with matplotlib (https://matplotlib.org/) -->\r\n<svg height=\"262.19625pt\" version=\"1.1\" viewBox=\"0 0 395.328125 262.19625\" width=\"395.328125pt\" xmlns=\"http://www.w3.org/2000/svg\" xmlns:xlink=\"http://www.w3.org/1999/xlink\">\r\n <metadata>\r\n  <rdf:RDF xmlns:cc=\"http://creativecommons.org/ns#\" xmlns:dc=\"http://purl.org/dc/elements/1.1/\" xmlns:rdf=\"http://www.w3.org/1999/02/22-rdf-syntax-ns#\">\r\n   <cc:Work>\r\n    <dc:type rdf:resource=\"http://purl.org/dc/dcmitype/StillImage\"/>\r\n    <dc:date>2021-03-02T16:28:06.666054</dc:date>\r\n    <dc:format>image/svg+xml</dc:format>\r\n    <dc:creator>\r\n     <cc:Agent>\r\n      <dc:title>Matplotlib v3.3.2, https://matplotlib.org/</dc:title>\r\n     </cc:Agent>\r\n    </dc:creator>\r\n   </cc:Work>\r\n  </rdf:RDF>\r\n </metadata>\r\n <defs>\r\n  <style type=\"text/css\">*{stroke-linecap:butt;stroke-linejoin:round;}</style>\r\n </defs>\r\n <g id=\"figure_1\">\r\n  <g id=\"patch_1\">\r\n   <path d=\"M 0 262.19625 \r\nL 395.328125 262.19625 \r\nL 395.328125 0 \r\nL 0 0 \r\nz\r\n\" style=\"fill:none;\"/>\r\n  </g>\r\n  <g id=\"axes_1\">\r\n   <g id=\"patch_2\">\r\n    <path d=\"M 53.328125 224.64 \r\nL 388.128125 224.64 \r\nL 388.128125 7.2 \r\nL 53.328125 7.2 \r\nz\r\n\" style=\"fill:#ffffff;\"/>\r\n   </g>\r\n   <g id=\"patch_3\">\r\n    <path clip-path=\"url(#p0ef86fb61f)\" d=\"M 70.068125 224.64 \r\nL 203.988125 224.64 \r\nL 203.988125 17.554286 \r\nL 70.068125 17.554286 \r\nz\r\n\" style=\"fill:#3274a1;\"/>\r\n   </g>\r\n   <g id=\"patch_4\">\r\n    <path clip-path=\"url(#p0ef86fb61f)\" d=\"M 237.468125 224.64 \r\nL 371.388125 224.64 \r\nL 371.388125 104.461728 \r\nL 237.468125 104.461728 \r\nz\r\n\" style=\"fill:#e1812c;\"/>\r\n   </g>\r\n   <g id=\"matplotlib.axis_1\">\r\n    <g id=\"xtick_1\">\r\n     <g id=\"line2d_1\">\r\n      <defs>\r\n       <path d=\"M 0 0 \r\nL 0 3.5 \r\n\" id=\"mfa942515d7\" style=\"stroke:#000000;stroke-width:0.8;\"/>\r\n      </defs>\r\n      <g>\r\n       <use style=\"stroke:#000000;stroke-width:0.8;\" x=\"137.028125\" xlink:href=\"#mfa942515d7\" y=\"224.64\"/>\r\n      </g>\r\n     </g>\r\n     <g id=\"text_1\">\r\n      <!-- good -->\r\n      <g transform=\"translate(124.560938 239.238437)scale(0.1 -0.1)\">\r\n       <defs>\r\n        <path d=\"M 45.40625 27.984375 \r\nQ 45.40625 37.75 41.375 43.109375 \r\nQ 37.359375 48.484375 30.078125 48.484375 \r\nQ 22.859375 48.484375 18.828125 43.109375 \r\nQ 14.796875 37.75 14.796875 27.984375 \r\nQ 14.796875 18.265625 18.828125 12.890625 \r\nQ 22.859375 7.515625 30.078125 7.515625 \r\nQ 37.359375 7.515625 41.375 12.890625 \r\nQ 45.40625 18.265625 45.40625 27.984375 \r\nz\r\nM 54.390625 6.78125 \r\nQ 54.390625 -7.171875 48.1875 -13.984375 \r\nQ 42 -20.796875 29.203125 -20.796875 \r\nQ 24.46875 -20.796875 20.265625 -20.09375 \r\nQ 16.0625 -19.390625 12.109375 -17.921875 \r\nL 12.109375 -9.1875 \r\nQ 16.0625 -11.328125 19.921875 -12.34375 \r\nQ 23.78125 -13.375 27.78125 -13.375 \r\nQ 36.625 -13.375 41.015625 -8.765625 \r\nQ 45.40625 -4.15625 45.40625 5.171875 \r\nL 45.40625 9.625 \r\nQ 42.625 4.78125 38.28125 2.390625 \r\nQ 33.9375 0 27.875 0 \r\nQ 17.828125 0 11.671875 7.65625 \r\nQ 5.515625 15.328125 5.515625 27.984375 \r\nQ 5.515625 40.671875 11.671875 48.328125 \r\nQ 17.828125 56 27.875 56 \r\nQ 33.9375 56 38.28125 53.609375 \r\nQ 42.625 51.21875 45.40625 46.390625 \r\nL 45.40625 54.6875 \r\nL 54.390625 54.6875 \r\nz\r\n\" id=\"DejaVuSans-103\"/>\r\n        <path d=\"M 30.609375 48.390625 \r\nQ 23.390625 48.390625 19.1875 42.75 \r\nQ 14.984375 37.109375 14.984375 27.296875 \r\nQ 14.984375 17.484375 19.15625 11.84375 \r\nQ 23.34375 6.203125 30.609375 6.203125 \r\nQ 37.796875 6.203125 41.984375 11.859375 \r\nQ 46.1875 17.53125 46.1875 27.296875 \r\nQ 46.1875 37.015625 41.984375 42.703125 \r\nQ 37.796875 48.390625 30.609375 48.390625 \r\nz\r\nM 30.609375 56 \r\nQ 42.328125 56 49.015625 48.375 \r\nQ 55.71875 40.765625 55.71875 27.296875 \r\nQ 55.71875 13.875 49.015625 6.21875 \r\nQ 42.328125 -1.421875 30.609375 -1.421875 \r\nQ 18.84375 -1.421875 12.171875 6.21875 \r\nQ 5.515625 13.875 5.515625 27.296875 \r\nQ 5.515625 40.765625 12.171875 48.375 \r\nQ 18.84375 56 30.609375 56 \r\nz\r\n\" id=\"DejaVuSans-111\"/>\r\n        <path d=\"M 45.40625 46.390625 \r\nL 45.40625 75.984375 \r\nL 54.390625 75.984375 \r\nL 54.390625 0 \r\nL 45.40625 0 \r\nL 45.40625 8.203125 \r\nQ 42.578125 3.328125 38.25 0.953125 \r\nQ 33.9375 -1.421875 27.875 -1.421875 \r\nQ 17.96875 -1.421875 11.734375 6.484375 \r\nQ 5.515625 14.40625 5.515625 27.296875 \r\nQ 5.515625 40.1875 11.734375 48.09375 \r\nQ 17.96875 56 27.875 56 \r\nQ 33.9375 56 38.25 53.625 \r\nQ 42.578125 51.265625 45.40625 46.390625 \r\nz\r\nM 14.796875 27.296875 \r\nQ 14.796875 17.390625 18.875 11.75 \r\nQ 22.953125 6.109375 30.078125 6.109375 \r\nQ 37.203125 6.109375 41.296875 11.75 \r\nQ 45.40625 17.390625 45.40625 27.296875 \r\nQ 45.40625 37.203125 41.296875 42.84375 \r\nQ 37.203125 48.484375 30.078125 48.484375 \r\nQ 22.953125 48.484375 18.875 42.84375 \r\nQ 14.796875 37.203125 14.796875 27.296875 \r\nz\r\n\" id=\"DejaVuSans-100\"/>\r\n       </defs>\r\n       <use xlink:href=\"#DejaVuSans-103\"/>\r\n       <use x=\"63.476562\" xlink:href=\"#DejaVuSans-111\"/>\r\n       <use x=\"124.658203\" xlink:href=\"#DejaVuSans-111\"/>\r\n       <use x=\"185.839844\" xlink:href=\"#DejaVuSans-100\"/>\r\n      </g>\r\n     </g>\r\n    </g>\r\n    <g id=\"xtick_2\">\r\n     <g id=\"line2d_2\">\r\n      <g>\r\n       <use style=\"stroke:#000000;stroke-width:0.8;\" x=\"304.428125\" xlink:href=\"#mfa942515d7\" y=\"224.64\"/>\r\n      </g>\r\n     </g>\r\n     <g id=\"text_2\">\r\n      <!-- bad -->\r\n      <g transform=\"translate(295.015625 239.238437)scale(0.1 -0.1)\">\r\n       <defs>\r\n        <path d=\"M 48.6875 27.296875 \r\nQ 48.6875 37.203125 44.609375 42.84375 \r\nQ 40.53125 48.484375 33.40625 48.484375 \r\nQ 26.265625 48.484375 22.1875 42.84375 \r\nQ 18.109375 37.203125 18.109375 27.296875 \r\nQ 18.109375 17.390625 22.1875 11.75 \r\nQ 26.265625 6.109375 33.40625 6.109375 \r\nQ 40.53125 6.109375 44.609375 11.75 \r\nQ 48.6875 17.390625 48.6875 27.296875 \r\nz\r\nM 18.109375 46.390625 \r\nQ 20.953125 51.265625 25.265625 53.625 \r\nQ 29.59375 56 35.59375 56 \r\nQ 45.5625 56 51.78125 48.09375 \r\nQ 58.015625 40.1875 58.015625 27.296875 \r\nQ 58.015625 14.40625 51.78125 6.484375 \r\nQ 45.5625 -1.421875 35.59375 -1.421875 \r\nQ 29.59375 -1.421875 25.265625 0.953125 \r\nQ 20.953125 3.328125 18.109375 8.203125 \r\nL 18.109375 0 \r\nL 9.078125 0 \r\nL 9.078125 75.984375 \r\nL 18.109375 75.984375 \r\nz\r\n\" id=\"DejaVuSans-98\"/>\r\n        <path d=\"M 34.28125 27.484375 \r\nQ 23.390625 27.484375 19.1875 25 \r\nQ 14.984375 22.515625 14.984375 16.5 \r\nQ 14.984375 11.71875 18.140625 8.90625 \r\nQ 21.296875 6.109375 26.703125 6.109375 \r\nQ 34.1875 6.109375 38.703125 11.40625 \r\nQ 43.21875 16.703125 43.21875 25.484375 \r\nL 43.21875 27.484375 \r\nz\r\nM 52.203125 31.203125 \r\nL 52.203125 0 \r\nL 43.21875 0 \r\nL 43.21875 8.296875 \r\nQ 40.140625 3.328125 35.546875 0.953125 \r\nQ 30.953125 -1.421875 24.3125 -1.421875 \r\nQ 15.921875 -1.421875 10.953125 3.296875 \r\nQ 6 8.015625 6 15.921875 \r\nQ 6 25.140625 12.171875 29.828125 \r\nQ 18.359375 34.515625 30.609375 34.515625 \r\nL 43.21875 34.515625 \r\nL 43.21875 35.40625 \r\nQ 43.21875 41.609375 39.140625 45 \r\nQ 35.0625 48.390625 27.6875 48.390625 \r\nQ 23 48.390625 18.546875 47.265625 \r\nQ 14.109375 46.140625 10.015625 43.890625 \r\nL 10.015625 52.203125 \r\nQ 14.9375 54.109375 19.578125 55.046875 \r\nQ 24.21875 56 28.609375 56 \r\nQ 40.484375 56 46.34375 49.84375 \r\nQ 52.203125 43.703125 52.203125 31.203125 \r\nz\r\n\" id=\"DejaVuSans-97\"/>\r\n       </defs>\r\n       <use xlink:href=\"#DejaVuSans-98\"/>\r\n       <use x=\"63.476562\" xlink:href=\"#DejaVuSans-97\"/>\r\n       <use x=\"124.755859\" xlink:href=\"#DejaVuSans-100\"/>\r\n      </g>\r\n     </g>\r\n    </g>\r\n    <g id=\"text_3\">\r\n     <!-- quality -->\r\n     <g transform=\"translate(203.623437 252.916562)scale(0.1 -0.1)\">\r\n      <defs>\r\n       <path d=\"M 14.796875 27.296875 \r\nQ 14.796875 17.390625 18.875 11.75 \r\nQ 22.953125 6.109375 30.078125 6.109375 \r\nQ 37.203125 6.109375 41.296875 11.75 \r\nQ 45.40625 17.390625 45.40625 27.296875 \r\nQ 45.40625 37.203125 41.296875 42.84375 \r\nQ 37.203125 48.484375 30.078125 48.484375 \r\nQ 22.953125 48.484375 18.875 42.84375 \r\nQ 14.796875 37.203125 14.796875 27.296875 \r\nz\r\nM 45.40625 8.203125 \r\nQ 42.578125 3.328125 38.25 0.953125 \r\nQ 33.9375 -1.421875 27.875 -1.421875 \r\nQ 17.96875 -1.421875 11.734375 6.484375 \r\nQ 5.515625 14.40625 5.515625 27.296875 \r\nQ 5.515625 40.1875 11.734375 48.09375 \r\nQ 17.96875 56 27.875 56 \r\nQ 33.9375 56 38.25 53.625 \r\nQ 42.578125 51.265625 45.40625 46.390625 \r\nL 45.40625 54.6875 \r\nL 54.390625 54.6875 \r\nL 54.390625 -20.796875 \r\nL 45.40625 -20.796875 \r\nz\r\n\" id=\"DejaVuSans-113\"/>\r\n       <path d=\"M 8.5 21.578125 \r\nL 8.5 54.6875 \r\nL 17.484375 54.6875 \r\nL 17.484375 21.921875 \r\nQ 17.484375 14.15625 20.5 10.265625 \r\nQ 23.53125 6.390625 29.59375 6.390625 \r\nQ 36.859375 6.390625 41.078125 11.03125 \r\nQ 45.3125 15.671875 45.3125 23.6875 \r\nL 45.3125 54.6875 \r\nL 54.296875 54.6875 \r\nL 54.296875 0 \r\nL 45.3125 0 \r\nL 45.3125 8.40625 \r\nQ 42.046875 3.421875 37.71875 1 \r\nQ 33.40625 -1.421875 27.6875 -1.421875 \r\nQ 18.265625 -1.421875 13.375 4.4375 \r\nQ 8.5 10.296875 8.5 21.578125 \r\nz\r\nM 31.109375 56 \r\nz\r\n\" id=\"DejaVuSans-117\"/>\r\n       <path d=\"M 9.421875 75.984375 \r\nL 18.40625 75.984375 \r\nL 18.40625 0 \r\nL 9.421875 0 \r\nz\r\n\" id=\"DejaVuSans-108\"/>\r\n       <path d=\"M 9.421875 54.6875 \r\nL 18.40625 54.6875 \r\nL 18.40625 0 \r\nL 9.421875 0 \r\nz\r\nM 9.421875 75.984375 \r\nL 18.40625 75.984375 \r\nL 18.40625 64.59375 \r\nL 9.421875 64.59375 \r\nz\r\n\" id=\"DejaVuSans-105\"/>\r\n       <path d=\"M 18.3125 70.21875 \r\nL 18.3125 54.6875 \r\nL 36.8125 54.6875 \r\nL 36.8125 47.703125 \r\nL 18.3125 47.703125 \r\nL 18.3125 18.015625 \r\nQ 18.3125 11.328125 20.140625 9.421875 \r\nQ 21.96875 7.515625 27.59375 7.515625 \r\nL 36.8125 7.515625 \r\nL 36.8125 0 \r\nL 27.59375 0 \r\nQ 17.1875 0 13.234375 3.875 \r\nQ 9.28125 7.765625 9.28125 18.015625 \r\nL 9.28125 47.703125 \r\nL 2.6875 47.703125 \r\nL 2.6875 54.6875 \r\nL 9.28125 54.6875 \r\nL 9.28125 70.21875 \r\nz\r\n\" id=\"DejaVuSans-116\"/>\r\n       <path d=\"M 32.171875 -5.078125 \r\nQ 28.375 -14.84375 24.75 -17.8125 \r\nQ 21.140625 -20.796875 15.09375 -20.796875 \r\nL 7.90625 -20.796875 \r\nL 7.90625 -13.28125 \r\nL 13.1875 -13.28125 \r\nQ 16.890625 -13.28125 18.9375 -11.515625 \r\nQ 21 -9.765625 23.484375 -3.21875 \r\nL 25.09375 0.875 \r\nL 2.984375 54.6875 \r\nL 12.5 54.6875 \r\nL 29.59375 11.921875 \r\nL 46.6875 54.6875 \r\nL 56.203125 54.6875 \r\nz\r\n\" id=\"DejaVuSans-121\"/>\r\n      </defs>\r\n      <use xlink:href=\"#DejaVuSans-113\"/>\r\n      <use x=\"63.476562\" xlink:href=\"#DejaVuSans-117\"/>\r\n      <use x=\"126.855469\" xlink:href=\"#DejaVuSans-97\"/>\r\n      <use x=\"188.134766\" xlink:href=\"#DejaVuSans-108\"/>\r\n      <use x=\"215.917969\" xlink:href=\"#DejaVuSans-105\"/>\r\n      <use x=\"243.701172\" xlink:href=\"#DejaVuSans-116\"/>\r\n      <use x=\"282.910156\" xlink:href=\"#DejaVuSans-121\"/>\r\n     </g>\r\n    </g>\r\n   </g>\r\n   <g id=\"matplotlib.axis_2\">\r\n    <g id=\"ytick_1\">\r\n     <g id=\"line2d_3\">\r\n      <defs>\r\n       <path d=\"M 0 0 \r\nL -3.5 0 \r\n\" id=\"me513b42852\" style=\"stroke:#000000;stroke-width:0.8;\"/>\r\n      </defs>\r\n      <g>\r\n       <use style=\"stroke:#000000;stroke-width:0.8;\" x=\"53.328125\" xlink:href=\"#me513b42852\" y=\"224.64\"/>\r\n      </g>\r\n     </g>\r\n     <g id=\"text_4\">\r\n      <!-- 0 -->\r\n      <g transform=\"translate(39.965625 228.439219)scale(0.1 -0.1)\">\r\n       <defs>\r\n        <path d=\"M 31.78125 66.40625 \r\nQ 24.171875 66.40625 20.328125 58.90625 \r\nQ 16.5 51.421875 16.5 36.375 \r\nQ 16.5 21.390625 20.328125 13.890625 \r\nQ 24.171875 6.390625 31.78125 6.390625 \r\nQ 39.453125 6.390625 43.28125 13.890625 \r\nQ 47.125 21.390625 47.125 36.375 \r\nQ 47.125 51.421875 43.28125 58.90625 \r\nQ 39.453125 66.40625 31.78125 66.40625 \r\nz\r\nM 31.78125 74.21875 \r\nQ 44.046875 74.21875 50.515625 64.515625 \r\nQ 56.984375 54.828125 56.984375 36.375 \r\nQ 56.984375 17.96875 50.515625 8.265625 \r\nQ 44.046875 -1.421875 31.78125 -1.421875 \r\nQ 19.53125 -1.421875 13.0625 8.265625 \r\nQ 6.59375 17.96875 6.59375 36.375 \r\nQ 6.59375 54.828125 13.0625 64.515625 \r\nQ 19.53125 74.21875 31.78125 74.21875 \r\nz\r\n\" id=\"DejaVuSans-48\"/>\r\n       </defs>\r\n       <use xlink:href=\"#DejaVuSans-48\"/>\r\n      </g>\r\n     </g>\r\n    </g>\r\n    <g id=\"ytick_2\">\r\n     <g id=\"line2d_4\">\r\n      <g>\r\n       <use style=\"stroke:#000000;stroke-width:0.8;\" x=\"53.328125\" xlink:href=\"#me513b42852\" y=\"199.434825\"/>\r\n      </g>\r\n     </g>\r\n     <g id=\"text_5\">\r\n      <!-- 500 -->\r\n      <g transform=\"translate(27.240625 203.234044)scale(0.1 -0.1)\">\r\n       <defs>\r\n        <path d=\"M 10.796875 72.90625 \r\nL 49.515625 72.90625 \r\nL 49.515625 64.59375 \r\nL 19.828125 64.59375 \r\nL 19.828125 46.734375 \r\nQ 21.96875 47.46875 24.109375 47.828125 \r\nQ 26.265625 48.1875 28.421875 48.1875 \r\nQ 40.625 48.1875 47.75 41.5 \r\nQ 54.890625 34.8125 54.890625 23.390625 \r\nQ 54.890625 11.625 47.5625 5.09375 \r\nQ 40.234375 -1.421875 26.90625 -1.421875 \r\nQ 22.3125 -1.421875 17.546875 -0.640625 \r\nQ 12.796875 0.140625 7.71875 1.703125 \r\nL 7.71875 11.625 \r\nQ 12.109375 9.234375 16.796875 8.0625 \r\nQ 21.484375 6.890625 26.703125 6.890625 \r\nQ 35.15625 6.890625 40.078125 11.328125 \r\nQ 45.015625 15.765625 45.015625 23.390625 \r\nQ 45.015625 31 40.078125 35.4375 \r\nQ 35.15625 39.890625 26.703125 39.890625 \r\nQ 22.75 39.890625 18.8125 39.015625 \r\nQ 14.890625 38.140625 10.796875 36.28125 \r\nz\r\n\" id=\"DejaVuSans-53\"/>\r\n       </defs>\r\n       <use xlink:href=\"#DejaVuSans-53\"/>\r\n       <use x=\"63.623047\" xlink:href=\"#DejaVuSans-48\"/>\r\n       <use x=\"127.246094\" xlink:href=\"#DejaVuSans-48\"/>\r\n      </g>\r\n     </g>\r\n    </g>\r\n    <g id=\"ytick_3\">\r\n     <g id=\"line2d_5\">\r\n      <g>\r\n       <use style=\"stroke:#000000;stroke-width:0.8;\" x=\"53.328125\" xlink:href=\"#me513b42852\" y=\"174.229651\"/>\r\n      </g>\r\n     </g>\r\n     <g id=\"text_6\">\r\n      <!-- 1000 -->\r\n      <g transform=\"translate(20.878125 178.02887)scale(0.1 -0.1)\">\r\n       <defs>\r\n        <path d=\"M 12.40625 8.296875 \r\nL 28.515625 8.296875 \r\nL 28.515625 63.921875 \r\nL 10.984375 60.40625 \r\nL 10.984375 69.390625 \r\nL 28.421875 72.90625 \r\nL 38.28125 72.90625 \r\nL 38.28125 8.296875 \r\nL 54.390625 8.296875 \r\nL 54.390625 0 \r\nL 12.40625 0 \r\nz\r\n\" id=\"DejaVuSans-49\"/>\r\n       </defs>\r\n       <use xlink:href=\"#DejaVuSans-49\"/>\r\n       <use x=\"63.623047\" xlink:href=\"#DejaVuSans-48\"/>\r\n       <use x=\"127.246094\" xlink:href=\"#DejaVuSans-48\"/>\r\n       <use x=\"190.869141\" xlink:href=\"#DejaVuSans-48\"/>\r\n      </g>\r\n     </g>\r\n    </g>\r\n    <g id=\"ytick_4\">\r\n     <g id=\"line2d_6\">\r\n      <g>\r\n       <use style=\"stroke:#000000;stroke-width:0.8;\" x=\"53.328125\" xlink:href=\"#me513b42852\" y=\"149.024476\"/>\r\n      </g>\r\n     </g>\r\n     <g id=\"text_7\">\r\n      <!-- 1500 -->\r\n      <g transform=\"translate(20.878125 152.823695)scale(0.1 -0.1)\">\r\n       <use xlink:href=\"#DejaVuSans-49\"/>\r\n       <use x=\"63.623047\" xlink:href=\"#DejaVuSans-53\"/>\r\n       <use x=\"127.246094\" xlink:href=\"#DejaVuSans-48\"/>\r\n       <use x=\"190.869141\" xlink:href=\"#DejaVuSans-48\"/>\r\n      </g>\r\n     </g>\r\n    </g>\r\n    <g id=\"ytick_5\">\r\n     <g id=\"line2d_7\">\r\n      <g>\r\n       <use style=\"stroke:#000000;stroke-width:0.8;\" x=\"53.328125\" xlink:href=\"#me513b42852\" y=\"123.819302\"/>\r\n      </g>\r\n     </g>\r\n     <g id=\"text_8\">\r\n      <!-- 2000 -->\r\n      <g transform=\"translate(20.878125 127.61852)scale(0.1 -0.1)\">\r\n       <defs>\r\n        <path d=\"M 19.1875 8.296875 \r\nL 53.609375 8.296875 \r\nL 53.609375 0 \r\nL 7.328125 0 \r\nL 7.328125 8.296875 \r\nQ 12.9375 14.109375 22.625 23.890625 \r\nQ 32.328125 33.6875 34.8125 36.53125 \r\nQ 39.546875 41.84375 41.421875 45.53125 \r\nQ 43.3125 49.21875 43.3125 52.78125 \r\nQ 43.3125 58.59375 39.234375 62.25 \r\nQ 35.15625 65.921875 28.609375 65.921875 \r\nQ 23.96875 65.921875 18.8125 64.3125 \r\nQ 13.671875 62.703125 7.8125 59.421875 \r\nL 7.8125 69.390625 \r\nQ 13.765625 71.78125 18.9375 73 \r\nQ 24.125 74.21875 28.421875 74.21875 \r\nQ 39.75 74.21875 46.484375 68.546875 \r\nQ 53.21875 62.890625 53.21875 53.421875 \r\nQ 53.21875 48.921875 51.53125 44.890625 \r\nQ 49.859375 40.875 45.40625 35.40625 \r\nQ 44.1875 33.984375 37.640625 27.21875 \r\nQ 31.109375 20.453125 19.1875 8.296875 \r\nz\r\n\" id=\"DejaVuSans-50\"/>\r\n       </defs>\r\n       <use xlink:href=\"#DejaVuSans-50\"/>\r\n       <use x=\"63.623047\" xlink:href=\"#DejaVuSans-48\"/>\r\n       <use x=\"127.246094\" xlink:href=\"#DejaVuSans-48\"/>\r\n       <use x=\"190.869141\" xlink:href=\"#DejaVuSans-48\"/>\r\n      </g>\r\n     </g>\r\n    </g>\r\n    <g id=\"ytick_6\">\r\n     <g id=\"line2d_8\">\r\n      <g>\r\n       <use style=\"stroke:#000000;stroke-width:0.8;\" x=\"53.328125\" xlink:href=\"#me513b42852\" y=\"98.614127\"/>\r\n      </g>\r\n     </g>\r\n     <g id=\"text_9\">\r\n      <!-- 2500 -->\r\n      <g transform=\"translate(20.878125 102.413346)scale(0.1 -0.1)\">\r\n       <use xlink:href=\"#DejaVuSans-50\"/>\r\n       <use x=\"63.623047\" xlink:href=\"#DejaVuSans-53\"/>\r\n       <use x=\"127.246094\" xlink:href=\"#DejaVuSans-48\"/>\r\n       <use x=\"190.869141\" xlink:href=\"#DejaVuSans-48\"/>\r\n      </g>\r\n     </g>\r\n    </g>\r\n    <g id=\"ytick_7\">\r\n     <g id=\"line2d_9\">\r\n      <g>\r\n       <use style=\"stroke:#000000;stroke-width:0.8;\" x=\"53.328125\" xlink:href=\"#me513b42852\" y=\"73.408953\"/>\r\n      </g>\r\n     </g>\r\n     <g id=\"text_10\">\r\n      <!-- 3000 -->\r\n      <g transform=\"translate(20.878125 77.208171)scale(0.1 -0.1)\">\r\n       <defs>\r\n        <path d=\"M 40.578125 39.3125 \r\nQ 47.65625 37.796875 51.625 33 \r\nQ 55.609375 28.21875 55.609375 21.1875 \r\nQ 55.609375 10.40625 48.1875 4.484375 \r\nQ 40.765625 -1.421875 27.09375 -1.421875 \r\nQ 22.515625 -1.421875 17.65625 -0.515625 \r\nQ 12.796875 0.390625 7.625 2.203125 \r\nL 7.625 11.71875 \r\nQ 11.71875 9.328125 16.59375 8.109375 \r\nQ 21.484375 6.890625 26.8125 6.890625 \r\nQ 36.078125 6.890625 40.9375 10.546875 \r\nQ 45.796875 14.203125 45.796875 21.1875 \r\nQ 45.796875 27.640625 41.28125 31.265625 \r\nQ 36.765625 34.90625 28.71875 34.90625 \r\nL 20.21875 34.90625 \r\nL 20.21875 43.015625 \r\nL 29.109375 43.015625 \r\nQ 36.375 43.015625 40.234375 45.921875 \r\nQ 44.09375 48.828125 44.09375 54.296875 \r\nQ 44.09375 59.90625 40.109375 62.90625 \r\nQ 36.140625 65.921875 28.71875 65.921875 \r\nQ 24.65625 65.921875 20.015625 65.03125 \r\nQ 15.375 64.15625 9.8125 62.3125 \r\nL 9.8125 71.09375 \r\nQ 15.4375 72.65625 20.34375 73.4375 \r\nQ 25.25 74.21875 29.59375 74.21875 \r\nQ 40.828125 74.21875 47.359375 69.109375 \r\nQ 53.90625 64.015625 53.90625 55.328125 \r\nQ 53.90625 49.265625 50.4375 45.09375 \r\nQ 46.96875 40.921875 40.578125 39.3125 \r\nz\r\n\" id=\"DejaVuSans-51\"/>\r\n       </defs>\r\n       <use xlink:href=\"#DejaVuSans-51\"/>\r\n       <use x=\"63.623047\" xlink:href=\"#DejaVuSans-48\"/>\r\n       <use x=\"127.246094\" xlink:href=\"#DejaVuSans-48\"/>\r\n       <use x=\"190.869141\" xlink:href=\"#DejaVuSans-48\"/>\r\n      </g>\r\n     </g>\r\n    </g>\r\n    <g id=\"ytick_8\">\r\n     <g id=\"line2d_10\">\r\n      <g>\r\n       <use style=\"stroke:#000000;stroke-width:0.8;\" x=\"53.328125\" xlink:href=\"#me513b42852\" y=\"48.203778\"/>\r\n      </g>\r\n     </g>\r\n     <g id=\"text_11\">\r\n      <!-- 3500 -->\r\n      <g transform=\"translate(20.878125 52.002997)scale(0.1 -0.1)\">\r\n       <use xlink:href=\"#DejaVuSans-51\"/>\r\n       <use x=\"63.623047\" xlink:href=\"#DejaVuSans-53\"/>\r\n       <use x=\"127.246094\" xlink:href=\"#DejaVuSans-48\"/>\r\n       <use x=\"190.869141\" xlink:href=\"#DejaVuSans-48\"/>\r\n      </g>\r\n     </g>\r\n    </g>\r\n    <g id=\"ytick_9\">\r\n     <g id=\"line2d_11\">\r\n      <g>\r\n       <use style=\"stroke:#000000;stroke-width:0.8;\" x=\"53.328125\" xlink:href=\"#me513b42852\" y=\"22.998603\"/>\r\n      </g>\r\n     </g>\r\n     <g id=\"text_12\">\r\n      <!-- 4000 -->\r\n      <g transform=\"translate(20.878125 26.797822)scale(0.1 -0.1)\">\r\n       <defs>\r\n        <path d=\"M 37.796875 64.3125 \r\nL 12.890625 25.390625 \r\nL 37.796875 25.390625 \r\nz\r\nM 35.203125 72.90625 \r\nL 47.609375 72.90625 \r\nL 47.609375 25.390625 \r\nL 58.015625 25.390625 \r\nL 58.015625 17.1875 \r\nL 47.609375 17.1875 \r\nL 47.609375 0 \r\nL 37.796875 0 \r\nL 37.796875 17.1875 \r\nL 4.890625 17.1875 \r\nL 4.890625 26.703125 \r\nz\r\n\" id=\"DejaVuSans-52\"/>\r\n       </defs>\r\n       <use xlink:href=\"#DejaVuSans-52\"/>\r\n       <use x=\"63.623047\" xlink:href=\"#DejaVuSans-48\"/>\r\n       <use x=\"127.246094\" xlink:href=\"#DejaVuSans-48\"/>\r\n       <use x=\"190.869141\" xlink:href=\"#DejaVuSans-48\"/>\r\n      </g>\r\n     </g>\r\n    </g>\r\n    <g id=\"text_13\">\r\n     <!-- count -->\r\n     <g transform=\"translate(14.798438 130.02625)rotate(-90)scale(0.1 -0.1)\">\r\n      <defs>\r\n       <path d=\"M 48.78125 52.59375 \r\nL 48.78125 44.1875 \r\nQ 44.96875 46.296875 41.140625 47.34375 \r\nQ 37.3125 48.390625 33.40625 48.390625 \r\nQ 24.65625 48.390625 19.8125 42.84375 \r\nQ 14.984375 37.3125 14.984375 27.296875 \r\nQ 14.984375 17.28125 19.8125 11.734375 \r\nQ 24.65625 6.203125 33.40625 6.203125 \r\nQ 37.3125 6.203125 41.140625 7.25 \r\nQ 44.96875 8.296875 48.78125 10.40625 \r\nL 48.78125 2.09375 \r\nQ 45.015625 0.34375 40.984375 -0.53125 \r\nQ 36.96875 -1.421875 32.421875 -1.421875 \r\nQ 20.0625 -1.421875 12.78125 6.34375 \r\nQ 5.515625 14.109375 5.515625 27.296875 \r\nQ 5.515625 40.671875 12.859375 48.328125 \r\nQ 20.21875 56 33.015625 56 \r\nQ 37.15625 56 41.109375 55.140625 \r\nQ 45.0625 54.296875 48.78125 52.59375 \r\nz\r\n\" id=\"DejaVuSans-99\"/>\r\n       <path d=\"M 54.890625 33.015625 \r\nL 54.890625 0 \r\nL 45.90625 0 \r\nL 45.90625 32.71875 \r\nQ 45.90625 40.484375 42.875 44.328125 \r\nQ 39.84375 48.1875 33.796875 48.1875 \r\nQ 26.515625 48.1875 22.3125 43.546875 \r\nQ 18.109375 38.921875 18.109375 30.90625 \r\nL 18.109375 0 \r\nL 9.078125 0 \r\nL 9.078125 54.6875 \r\nL 18.109375 54.6875 \r\nL 18.109375 46.1875 \r\nQ 21.34375 51.125 25.703125 53.5625 \r\nQ 30.078125 56 35.796875 56 \r\nQ 45.21875 56 50.046875 50.171875 \r\nQ 54.890625 44.34375 54.890625 33.015625 \r\nz\r\n\" id=\"DejaVuSans-110\"/>\r\n      </defs>\r\n      <use xlink:href=\"#DejaVuSans-99\"/>\r\n      <use x=\"54.980469\" xlink:href=\"#DejaVuSans-111\"/>\r\n      <use x=\"116.162109\" xlink:href=\"#DejaVuSans-117\"/>\r\n      <use x=\"179.541016\" xlink:href=\"#DejaVuSans-110\"/>\r\n      <use x=\"242.919922\" xlink:href=\"#DejaVuSans-116\"/>\r\n     </g>\r\n    </g>\r\n   </g>\r\n   <g id=\"patch_5\">\r\n    <path d=\"M 53.328125 224.64 \r\nL 53.328125 7.2 \r\n\" style=\"fill:none;stroke:#000000;stroke-linecap:square;stroke-linejoin:miter;stroke-width:0.8;\"/>\r\n   </g>\r\n   <g id=\"patch_6\">\r\n    <path d=\"M 388.128125 224.64 \r\nL 388.128125 7.2 \r\n\" style=\"fill:none;stroke:#000000;stroke-linecap:square;stroke-linejoin:miter;stroke-width:0.8;\"/>\r\n   </g>\r\n   <g id=\"patch_7\">\r\n    <path d=\"M 53.328125 224.64 \r\nL 388.128125 224.64 \r\n\" style=\"fill:none;stroke:#000000;stroke-linecap:square;stroke-linejoin:miter;stroke-width:0.8;\"/>\r\n   </g>\r\n   <g id=\"patch_8\">\r\n    <path d=\"M 53.328125 7.2 \r\nL 388.128125 7.2 \r\n\" style=\"fill:none;stroke:#000000;stroke-linecap:square;stroke-linejoin:miter;stroke-width:0.8;\"/>\r\n   </g>\r\n  </g>\r\n </g>\r\n <defs>\r\n  <clipPath id=\"p0ef86fb61f\">\r\n   <rect height=\"217.44\" width=\"334.8\" x=\"53.328125\" y=\"7.2\"/>\r\n  </clipPath>\r\n </defs>\r\n</svg>\r\n",
      "image/png": "[encoded data removed]"
     },
     "metadata": {
      "needs_background": "light"
     }
    }
   ],
   "source": [
    "sns.countplot(wines['quality']);"
   ]
  },
  {
   "cell_type": "code",
   "execution_count": 199,
   "metadata": {},
   "outputs": [
    {
     "output_type": "execute_result",
     "data": {
      "text/plain": [
       "      fixed acidity  volatile acidity  citric acid  residual sugar  chlorides  \\\n",
       "0               7.0              0.25         0.45             2.3      0.045   \n",
       "1               7.6              0.14         0.74             1.6      0.040   \n",
       "2               6.2              0.15         0.27            11.0      0.035   \n",
       "3               6.7              0.16         0.32            12.5      0.035   \n",
       "4               6.8              0.27         0.22            17.8      0.034   \n",
       "...             ...               ...          ...             ...        ...   \n",
       "6492            6.3              0.24         0.29            13.7      0.035   \n",
       "6493            6.9              0.36         0.25             2.4      0.098   \n",
       "6494           13.4              0.27         0.62             2.6      0.082   \n",
       "6495            8.9              0.40         0.51             2.6      0.052   \n",
       "6496            8.1              0.27         0.35             1.7      0.030   \n",
       "\n",
       "      free sulfur dioxide  total sulfur dioxide  density    pH  sulphates  \\\n",
       "0                    40.0                 118.0  0.99064  3.16       0.48   \n",
       "1                    27.0                 103.0  0.99160  3.07       0.40   \n",
       "2                    46.0                 116.0  0.99602  3.12       0.38   \n",
       "3                    18.0                 156.0  0.99666  2.88       0.36   \n",
       "4                    16.0                 116.0  0.99890  3.07       0.53   \n",
       "...                   ...                   ...      ...   ...        ...   \n",
       "6492                 53.0                 134.0  0.99567  3.17       0.38   \n",
       "6493                  5.0                  16.0  0.99640  3.41       0.60   \n",
       "6494                  6.0                  21.0  1.00020  3.16       0.67   \n",
       "6495                 13.0                  27.0  0.99500  3.32       0.90   \n",
       "6496                 38.0                 103.0  0.99255  3.22       0.63   \n",
       "\n",
       "      alcohol quality wine_type quality_label  \n",
       "0        11.9    good     white        medium  \n",
       "1        10.8    good     white        medium  \n",
       "2         9.1    good     white        medium  \n",
       "3         9.0    good     white        medium  \n",
       "4         9.2     bad     white           low  \n",
       "...       ...     ...       ...           ...  \n",
       "6492     10.6    good     white        medium  \n",
       "6493     10.1    good       red        medium  \n",
       "6494      9.7    good       red        medium  \n",
       "6495     13.4    good       red        medium  \n",
       "6496     10.4    good     white          high  \n",
       "\n",
       "[6497 rows x 14 columns]"
      ],
      "text/html": "<div>\n<style scoped>\n    .dataframe tbody tr th:only-of-type {\n        vertical-align: middle;\n    }\n\n    .dataframe tbody tr th {\n        vertical-align: top;\n    }\n\n    .dataframe thead th {\n        text-align: right;\n    }\n</style>\n<table border=\"1\" class=\"dataframe\">\n  <thead>\n    <tr style=\"text-align: right;\">\n      <th></th>\n      <th>fixed acidity</th>\n      <th>volatile acidity</th>\n      <th>citric acid</th>\n      <th>residual sugar</th>\n      <th>chlorides</th>\n      <th>free sulfur dioxide</th>\n      <th>total sulfur dioxide</th>\n      <th>density</th>\n      <th>pH</th>\n      <th>sulphates</th>\n      <th>alcohol</th>\n      <th>quality</th>\n      <th>wine_type</th>\n      <th>quality_label</th>\n    </tr>\n  </thead>\n  <tbody>\n    <tr>\n      <th>0</th>\n      <td>7.0</td>\n      <td>0.25</td>\n      <td>0.45</td>\n      <td>2.3</td>\n      <td>0.045</td>\n      <td>40.0</td>\n      <td>118.0</td>\n      <td>0.99064</td>\n      <td>3.16</td>\n      <td>0.48</td>\n      <td>11.9</td>\n      <td>good</td>\n      <td>white</td>\n      <td>medium</td>\n    </tr>\n    <tr>\n      <th>1</th>\n      <td>7.6</td>\n      <td>0.14</td>\n      <td>0.74</td>\n      <td>1.6</td>\n      <td>0.040</td>\n      <td>27.0</td>\n      <td>103.0</td>\n      <td>0.99160</td>\n      <td>3.07</td>\n      <td>0.40</td>\n      <td>10.8</td>\n      <td>good</td>\n      <td>white</td>\n      <td>medium</td>\n    </tr>\n    <tr>\n      <th>2</th>\n      <td>6.2</td>\n      <td>0.15</td>\n      <td>0.27</td>\n      <td>11.0</td>\n      <td>0.035</td>\n      <td>46.0</td>\n      <td>116.0</td>\n      <td>0.99602</td>\n      <td>3.12</td>\n      <td>0.38</td>\n      <td>9.1</td>\n      <td>good</td>\n      <td>white</td>\n      <td>medium</td>\n    </tr>\n    <tr>\n      <th>3</th>\n      <td>6.7</td>\n      <td>0.16</td>\n      <td>0.32</td>\n      <td>12.5</td>\n      <td>0.035</td>\n      <td>18.0</td>\n      <td>156.0</td>\n      <td>0.99666</td>\n      <td>2.88</td>\n      <td>0.36</td>\n      <td>9.0</td>\n      <td>good</td>\n      <td>white</td>\n      <td>medium</td>\n    </tr>\n    <tr>\n      <th>4</th>\n      <td>6.8</td>\n      <td>0.27</td>\n      <td>0.22</td>\n      <td>17.8</td>\n      <td>0.034</td>\n      <td>16.0</td>\n      <td>116.0</td>\n      <td>0.99890</td>\n      <td>3.07</td>\n      <td>0.53</td>\n      <td>9.2</td>\n      <td>bad</td>\n      <td>white</td>\n      <td>low</td>\n    </tr>\n    <tr>\n      <th>...</th>\n      <td>...</td>\n      <td>...</td>\n      <td>...</td>\n      <td>...</td>\n      <td>...</td>\n      <td>...</td>\n      <td>...</td>\n      <td>...</td>\n      <td>...</td>\n      <td>...</td>\n      <td>...</td>\n      <td>...</td>\n      <td>...</td>\n      <td>...</td>\n    </tr>\n    <tr>\n      <th>6492</th>\n      <td>6.3</td>\n      <td>0.24</td>\n      <td>0.29</td>\n      <td>13.7</td>\n      <td>0.035</td>\n      <td>53.0</td>\n      <td>134.0</td>\n      <td>0.99567</td>\n      <td>3.17</td>\n      <td>0.38</td>\n      <td>10.6</td>\n      <td>good</td>\n      <td>white</td>\n      <td>medium</td>\n    </tr>\n    <tr>\n      <th>6493</th>\n      <td>6.9</td>\n      <td>0.36</td>\n      <td>0.25</td>\n      <td>2.4</td>\n      <td>0.098</td>\n      <td>5.0</td>\n      <td>16.0</td>\n      <td>0.99640</td>\n      <td>3.41</td>\n      <td>0.60</td>\n      <td>10.1</td>\n      <td>good</td>\n      <td>red</td>\n      <td>medium</td>\n    </tr>\n    <tr>\n      <th>6494</th>\n      <td>13.4</td>\n      <td>0.27</td>\n      <td>0.62</td>\n      <td>2.6</td>\n      <td>0.082</td>\n      <td>6.0</td>\n      <td>21.0</td>\n      <td>1.00020</td>\n      <td>3.16</td>\n      <td>0.67</td>\n      <td>9.7</td>\n      <td>good</td>\n      <td>red</td>\n      <td>medium</td>\n    </tr>\n    <tr>\n      <th>6495</th>\n      <td>8.9</td>\n      <td>0.40</td>\n      <td>0.51</td>\n      <td>2.6</td>\n      <td>0.052</td>\n      <td>13.0</td>\n      <td>27.0</td>\n      <td>0.99500</td>\n      <td>3.32</td>\n      <td>0.90</td>\n      <td>13.4</td>\n      <td>good</td>\n      <td>red</td>\n      <td>medium</td>\n    </tr>\n    <tr>\n      <th>6496</th>\n      <td>8.1</td>\n      <td>0.27</td>\n      <td>0.35</td>\n      <td>1.7</td>\n      <td>0.030</td>\n      <td>38.0</td>\n      <td>103.0</td>\n      <td>0.99255</td>\n      <td>3.22</td>\n      <td>0.63</td>\n      <td>10.4</td>\n      <td>good</td>\n      <td>white</td>\n      <td>high</td>\n    </tr>\n  </tbody>\n</table>\n<p>6497 rows × 14 columns</p>\n</div>"
     },
     "metadata": {},
     "execution_count": 199
    }
   ],
   "source": [
    "wines.fillna(0)"
   ]
  },
  {
   "cell_type": "code",
   "execution_count": 200,
   "metadata": {},
   "outputs": [
    {
     "output_type": "stream",
     "name": "stdout",
     "text": [
      "(6497, 11)\n(6497,)\n"
     ]
    }
   ],
   "source": [
    "# dividing the dataset into dependent and independent variables\n",
    "x = wines.iloc[:,:11]\n",
    "y = wines.iloc[:,11]\n",
    "# determining the shape of x and y.\n",
    "print(x.shape)\n",
    "print(y.shape)"
   ]
  },
  {
   "cell_type": "code",
   "execution_count": 201,
   "metadata": {},
   "outputs": [
    {
     "output_type": "stream",
     "name": "stdout",
     "text": [
      "(4872, 11)\n(4872,)\n(1625, 11)\n(1625,)\n"
     ]
    }
   ],
   "source": [
    "# dividing the dataset in training and testing set\n",
    "from sklearn.model_selection import train_test_split\n",
    "x_train, x_test, y_train, y_test = train_test_split(x, y, test_size = 0.25, random_state = 44)\n",
    "# determining the shapes of training and testing sets\n",
    "print(x_train.shape)\n",
    "print(y_train.shape)\n",
    "print(x_test.shape)\n",
    "print(y_test.shape)"
   ]
  },
  {
   "cell_type": "code",
   "execution_count": 202,
   "metadata": {},
   "outputs": [],
   "source": [
    "# standard scaling \n",
    "from sklearn.preprocessing import StandardScaler\n",
    "\n",
    "sc = StandardScaler()\n",
    "x_train = sc.fit_transform(x_train)\n",
    "x_test = sc.fit_transform(x_test)"
   ]
  },
  {
   "cell_type": "code",
   "execution_count": 211,
   "metadata": {},
   "outputs": [
    {
     "output_type": "execute_result",
     "data": {
      "text/plain": [
       "fixed acidity           6497\n",
       "volatile acidity        6497\n",
       "citric acid             6497\n",
       "residual sugar          6497\n",
       "chlorides               6497\n",
       "free sulfur dioxide     6497\n",
       "total sulfur dioxide    6497\n",
       "density                 6497\n",
       "pH                      6497\n",
       "sulphates               6497\n",
       "alcohol                 6497\n",
       "quality                 6492\n",
       "wine_type               6497\n",
       "quality_label           6497\n",
       "dtype: int64"
      ]
     },
     "metadata": {},
     "execution_count": 211
    }
   ],
   "source": [
    "wines.count()"
   ]
  },
  {
   "cell_type": "code",
   "execution_count": null,
   "metadata": {},
   "outputs": [],
   "source": [
    "from sklearn.tree import DecisionTreeClassifier\n",
    "\n",
    "# creating model\n",
    "model = DecisionTreeClassifier()\n",
    "# feeding the training set into the model\n",
    "model.fit(x_train, y_train)\n",
    "# predicting the results for the test set\n",
    "y_pred = model.predict(x_test)\n",
    "# calculating the training and testing accuracies\n",
    "print(\"Training accuracy :\", model.score(x_train, y_train))\n",
    "print(\"Testing accuracy :\", model.score(x_test, y_test))"
   ]
  },
  {
   "cell_type": "code",
   "execution_count": 1,
   "metadata": {},
   "outputs": [],
   "source": [
    "# classification report\n",
    "print(classification_report(y_test, y_pred))\n",
    "# confusion matrix\n",
    "print(confusion_matrix(y_test, y_pred))"
   ]
  },
  {
   "cell_type": "code",
   "execution_count": null,
   "metadata": {},
   "outputs": [],
   "source": [
    "#Let's try to do some evaluation for decision tree model using cross validation.\n",
    "model_eval = cross_val_score(estimator = model, X = x_train, y = y_train, cv = 10)\n",
    "model_eval.mean()"
   ]
  }
 ]
}