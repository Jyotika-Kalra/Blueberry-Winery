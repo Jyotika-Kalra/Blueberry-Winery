{
 "metadata": {
  "language_info": {
   "codemirror_mode": {
    "name": "ipython",
    "version": 3
   },
   "file_extension": ".py",
   "mimetype": "text/x-python",
   "name": "python",
   "nbconvert_exporter": "python",
   "pygments_lexer": "ipython3",
   "version": "3.8.5-final"
  },
  "orig_nbformat": 2,
  "kernelspec": {
   "name": "python3",
   "display_name": "Python 3",
   "language": "python"
  }
 },
 "nbformat": 4,
 "nbformat_minor": 2,
 "cells": [
  {
   "cell_type": "code",
   "execution_count": 3,
   "metadata": {},
   "outputs": [],
   "source": [
    "import numpy as np \n",
    "import pandas as pd \n",
    "#from sklearn.cross_validation import train_test_split \n",
    "from sklearn.tree import DecisionTreeClassifier\n",
    "from sklearn.metrics import accuracy_score\n",
    "from sklearn import tree\n",
    "from sklearn.model_selection import train_test_split"
   ]
  },
  {
   "cell_type": "code",
   "execution_count": 4,
   "metadata": {},
   "outputs": [],
   "source": [
    "#preprocess the data \n",
    "##add label to each data set(red and white)\n",
    "X_red_wine = pd.read_csv(r'C:\\Users\\jyoti\\Desktop\\DATA SCIENCE\\Blueberry-Winery\\Blueberry-Winery\\Dataset\\winequality-red.csv', sep = ';')\n",
    "X_white_wine = pd.read_csv(r'C:\\Users\\jyoti\\Desktop\\DATA SCIENCE\\Blueberry-Winery\\Blueberry-Winery\\Dataset\\winequality-white.csv', sep = ';')"
   ]
  },
  {
   "cell_type": "code",
   "execution_count": 5,
   "metadata": {},
   "outputs": [],
   "source": [
    "n_r = len(X_red_wine)\n",
    "Y_red = np.ones((n_r, 1)) # label 1 stand for red\n",
    "n_w = len(X_white_wine)\n",
    "Y_white = np.zeros((n_w, 1)) # label 0 stand for white"
   ]
  },
  {
   "cell_type": "code",
   "execution_count": 6,
   "metadata": {},
   "outputs": [],
   "source": [
    "X_frame = [X_red_wine, X_white_wine]\n",
    "Y_frame = [Y_red, Y_white]\n",
    "X = pd.concat(X_frame, axis =0, join ='outer')\n",
    "Y = np.concatenate(Y_frame, axis =0)"
   ]
  },
  {
   "cell_type": "code",
   "execution_count": 7,
   "metadata": {},
   "outputs": [],
   "source": [
    "#split dataset into test and train\n",
    "X_train, X_test, Y_train, Y_test = train_test_split(X, Y, test_size = 0.3, random_state =100)"
   ]
  },
  {
   "cell_type": "code",
   "execution_count": 8,
   "metadata": {},
   "outputs": [
    {
     "output_type": "execute_result",
     "data": {
      "text/plain": [
       "DecisionTreeClassifier(criterion='entropy', max_depth=4, random_state=100)"
      ]
     },
     "metadata": {},
     "execution_count": 8
    }
   ],
   "source": [
    "#develop a decision classifier \n",
    "clf_gini = DecisionTreeClassifier(criterion = 'entropy', splitter = 'best', max_depth = 4, random_state = 100)\n",
    "clf_gini.fit(X_train, Y_train)"
   ]
  },
  {
   "cell_type": "code",
   "execution_count": 9,
   "metadata": {},
   "outputs": [],
   "source": [
    "#predict \n",
    "Y_prediction = clf_gini.predict(X_test)"
   ]
  },
  {
   "cell_type": "code",
   "execution_count": 11,
   "metadata": {},
   "outputs": [
    {
     "output_type": "stream",
     "name": "stdout",
     "text": [
      "Acurracy percentage = 98.2051282051282\n"
     ]
    }
   ],
   "source": [
    "#Accuracy percentage\n",
    "accuracy = accuracy_score(Y_test, Y_prediction)*100\n",
    "print('Acurracy percentage = '+str(accuracy))"
   ]
  },
  {
   "cell_type": "code",
   "execution_count": null,
   "metadata": {},
   "outputs": [],
   "source": []
  }
 ]
}